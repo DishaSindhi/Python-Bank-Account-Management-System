{
 "cells": [
  {
   "cell_type": "code",
   "execution_count": 3,
   "id": "fc232733-8025-4511-a6ea-7a7d543a9b42",
   "metadata": {},
   "outputs": [
    {
     "name": "stdout",
     "output_type": "stream",
     "text": [
      "\n",
      "Bank Account Management System\n",
      "1. Open New Account\n",
      "2. View Account Details\n",
      "3. Deposit Money\n",
      "4. Withdraw Money\n",
      "5. Transfer Money\n",
      "6. View Transaction History\n",
      "7. Generate Account Report\n",
      "8. Exit\n"
     ]
    },
    {
     "name": "stdin",
     "output_type": "stream",
     "text": [
      "Enter your choice:  1\n",
      "Enter Account Holder's Name:  Disha Sindhi\n",
      "Enter Account Type (Savings/Current):  Savings\n",
      "Enter Initial Deposit Amount:  50000\n"
     ]
    },
    {
     "name": "stdout",
     "output_type": "stream",
     "text": [
      "Account Created Successfully! Account Number: 100013\n",
      "\n",
      "Bank Account Management System\n",
      "1. Open New Account\n",
      "2. View Account Details\n",
      "3. Deposit Money\n",
      "4. Withdraw Money\n",
      "5. Transfer Money\n",
      "6. View Transaction History\n",
      "7. Generate Account Report\n",
      "8. Exit\n"
     ]
    },
    {
     "name": "stdin",
     "output_type": "stream",
     "text": [
      "Enter your choice:  2\n",
      "Enter Account Number:  100013\n"
     ]
    },
    {
     "name": "stdout",
     "output_type": "stream",
     "text": [
      "Account Holder: Disha Sindhi\n",
      "Account Number: 100013\n",
      "Account Type: Savings\n",
      "Balance: ₹50000.0\n",
      "\n",
      "\n",
      "Bank Account Management System\n",
      "1. Open New Account\n",
      "2. View Account Details\n",
      "3. Deposit Money\n",
      "4. Withdraw Money\n",
      "5. Transfer Money\n",
      "6. View Transaction History\n",
      "7. Generate Account Report\n",
      "8. Exit\n"
     ]
    },
    {
     "name": "stdin",
     "output_type": "stream",
     "text": [
      "Enter your choice:  2\n",
      "Enter Account Number:  100013\n"
     ]
    },
    {
     "name": "stdout",
     "output_type": "stream",
     "text": [
      "Account Holder: Disha Sindhi\n",
      "Account Number: 100013\n",
      "Account Type: Savings\n",
      "Balance: ₹50000.0\n",
      "\n",
      "\n",
      "Bank Account Management System\n",
      "1. Open New Account\n",
      "2. View Account Details\n",
      "3. Deposit Money\n",
      "4. Withdraw Money\n",
      "5. Transfer Money\n",
      "6. View Transaction History\n",
      "7. Generate Account Report\n",
      "8. Exit\n"
     ]
    },
    {
     "name": "stdin",
     "output_type": "stream",
     "text": [
      "Enter your choice:  3\n",
      "Enter Account Number:  100013\n",
      "Enter Deposit Amount:  4000\n"
     ]
    },
    {
     "name": "stdout",
     "output_type": "stream",
     "text": [
      "Deposited ₹4000.0. New balance: ₹54000.0\n",
      "\n",
      "Bank Account Management System\n",
      "1. Open New Account\n",
      "2. View Account Details\n",
      "3. Deposit Money\n",
      "4. Withdraw Money\n",
      "5. Transfer Money\n",
      "6. View Transaction History\n",
      "7. Generate Account Report\n",
      "8. Exit\n"
     ]
    },
    {
     "name": "stdin",
     "output_type": "stream",
     "text": [
      "Enter your choice:  4\n",
      "Enter Account Number:  100013\n",
      "Enter Withdrawal Amount:  3000\n"
     ]
    },
    {
     "name": "stdout",
     "output_type": "stream",
     "text": [
      "Withdrawn ₹3000.0. New balance: ₹51000.0\n",
      "\n",
      "Bank Account Management System\n",
      "1. Open New Account\n",
      "2. View Account Details\n",
      "3. Deposit Money\n",
      "4. Withdraw Money\n",
      "5. Transfer Money\n",
      "6. View Transaction History\n",
      "7. Generate Account Report\n",
      "8. Exit\n"
     ]
    },
    {
     "name": "stdin",
     "output_type": "stream",
     "text": [
      "Enter your choice:  5\n",
      "Enter Your Account Number:  100013\n",
      "Enter Recipient Account Number:  100014\n"
     ]
    },
    {
     "name": "stdout",
     "output_type": "stream",
     "text": [
      "One or both accounts not found.\n",
      "\n",
      "Bank Account Management System\n",
      "1. Open New Account\n",
      "2. View Account Details\n",
      "3. Deposit Money\n",
      "4. Withdraw Money\n",
      "5. Transfer Money\n",
      "6. View Transaction History\n",
      "7. Generate Account Report\n",
      "8. Exit\n"
     ]
    },
    {
     "name": "stdin",
     "output_type": "stream",
     "text": [
      "Enter your choice:  5\n",
      "Enter Your Account Number:  100013\n",
      "Enter Recipient Account Number:  100013\n",
      "Enter Transfer Amount:  2000\n"
     ]
    },
    {
     "name": "stdout",
     "output_type": "stream",
     "text": [
      "Transferred ₹2000.0 to Account 100013. New balance: ₹51000.0\n",
      "\n",
      "Bank Account Management System\n",
      "1. Open New Account\n",
      "2. View Account Details\n",
      "3. Deposit Money\n",
      "4. Withdraw Money\n",
      "5. Transfer Money\n",
      "6. View Transaction History\n",
      "7. Generate Account Report\n",
      "8. Exit\n"
     ]
    },
    {
     "name": "stdin",
     "output_type": "stream",
     "text": [
      "Enter your choice:  6\n",
      "Enter Account Number:  100013\n"
     ]
    },
    {
     "name": "stdout",
     "output_type": "stream",
     "text": [
      "Date: 2025-02-16 16:18:51.090579, Type: Deposit, Amount: ₹4000.0, Target: None\n",
      "Date: 2025-02-16 16:19:46.409799, Type: Withdrawal, Amount: ₹3000.0, Target: None\n",
      "Date: 2025-02-16 16:20:57.965207, Type: Transfer Out, Amount: ₹2000.0, Target: 100013\n",
      "Date: 2025-02-16 16:20:57.979813, Type: Transfer In, Amount: ₹2000.0, Target: 100013\n",
      "\n",
      "Bank Account Management System\n",
      "1. Open New Account\n",
      "2. View Account Details\n",
      "3. Deposit Money\n",
      "4. Withdraw Money\n",
      "5. Transfer Money\n",
      "6. View Transaction History\n",
      "7. Generate Account Report\n",
      "8. Exit\n"
     ]
    },
    {
     "name": "stdin",
     "output_type": "stream",
     "text": [
      "Enter your choice:  7\n",
      "Enter Account Number:  100013\n"
     ]
    },
    {
     "name": "stdout",
     "output_type": "stream",
     "text": [
      "Total Deposits: ₹4000.0\n",
      "Total Withdrawals: ₹3000.0\n",
      "Average Transaction Amount: ₹3500.00\n",
      "\n",
      "Bank Account Management System\n",
      "1. Open New Account\n",
      "2. View Account Details\n",
      "3. Deposit Money\n",
      "4. Withdraw Money\n",
      "5. Transfer Money\n",
      "6. View Transaction History\n",
      "7. Generate Account Report\n",
      "8. Exit\n"
     ]
    },
    {
     "name": "stdin",
     "output_type": "stream",
     "text": [
      "Enter your choice:  8\n"
     ]
    },
    {
     "name": "stdout",
     "output_type": "stream",
     "text": [
      "Thank you for using the system!\n"
     ]
    }
   ],
   "source": [
    "import pickle\n",
    "import os\n",
    "import datetime\n",
    "import numpy as np\n",
    "\n",
    "# File to store account details\n",
    "ACCOUNTS_FILE = \"accounts.pkl\"\n",
    "TRANSACTIONS_FILE = \"transactions.pkl\"\n",
    "\n",
    "class BankAccount:\n",
    "    def __init__(self, name, account_type, initial_balance):\n",
    "        self.name = name\n",
    "        self.account_number = self.generate_account_number()\n",
    "        self.account_type = account_type\n",
    "        self.balance = initial_balance\n",
    "        self.transactions = []\n",
    "    \n",
    "    def generate_account_number(self):\n",
    "        return str(100000 + len(load_accounts()) + 1)\n",
    "    \n",
    "    def deposit(self, amount):\n",
    "        if amount > 0:\n",
    "            self.balance += amount\n",
    "            self.add_transaction(\"Deposit\", amount)\n",
    "            return f\"Deposited ₹{amount}. New balance: ₹{self.balance}\"\n",
    "        return \"Invalid deposit amount.\"\n",
    "\n",
    "    def withdraw(self, amount):\n",
    "        if 0 < amount <= self.balance:\n",
    "            self.balance -= amount\n",
    "            self.add_transaction(\"Withdrawal\", amount)\n",
    "            return f\"Withdrawn ₹{amount}. New balance: ₹{self.balance}\"\n",
    "        return \"Insufficient funds or invalid amount.\"\n",
    "\n",
    "    def transfer(self, target_account, amount):\n",
    "        if 0 < amount <= self.balance:\n",
    "            self.balance -= amount\n",
    "            target_account.balance += amount\n",
    "            self.add_transaction(\"Transfer Out\", amount, target_account.account_number)\n",
    "            target_account.add_transaction(\"Transfer In\", amount, self.account_number)\n",
    "            return f\"Transferred ₹{amount} to Account {target_account.account_number}. New balance: ₹{self.balance}\"\n",
    "        return \"Insufficient funds or invalid amount.\"\n",
    "\n",
    "    def add_transaction(self, transaction_type, amount, target_account=None):\n",
    "        transaction = {\n",
    "            \"date\": str(datetime.datetime.now()),\n",
    "            \"type\": transaction_type,\n",
    "            \"amount\": amount,\n",
    "            \"target\": target_account,\n",
    "            \"account_number\": self.account_number\n",
    "        }\n",
    "        self.transactions.append(transaction)\n",
    "        save_transaction(transaction)\n",
    "    \n",
    "    def get_details(self):\n",
    "        return f\"Account Holder: {self.name}\\nAccount Number: {self.account_number}\\nAccount Type: {self.account_type}\\nBalance: ₹{self.balance}\\n\"\n",
    "\n",
    "# File Handling Functions\n",
    "\n",
    "def save_accounts(accounts):\n",
    "    with open(ACCOUNTS_FILE, \"wb\") as f:\n",
    "        pickle.dump(accounts, f)\n",
    "\n",
    "def load_accounts():\n",
    "    if os.path.exists(ACCOUNTS_FILE):\n",
    "        with open(ACCOUNTS_FILE, \"rb\") as f:\n",
    "            return pickle.load(f)\n",
    "    return {}\n",
    "\n",
    "def save_transaction(transaction):\n",
    "    transactions = load_transactions()\n",
    "    transactions.append(transaction)\n",
    "    with open(TRANSACTIONS_FILE, \"wb\") as f:\n",
    "        pickle.dump(transactions, f)\n",
    "\n",
    "def load_transactions():\n",
    "    if os.path.exists(TRANSACTIONS_FILE):\n",
    "        with open(TRANSACTIONS_FILE, \"rb\") as f:\n",
    "            data = pickle.load(f)\n",
    "            return data if isinstance(data, list) else []  # Ensure it's always a list.\n",
    "    return []\n",
    "\n",
    "def transaction_history(account_number):\n",
    "    transactions = load_transactions()\n",
    "    account_transactions = [t for t in transactions if t['account_number'] == account_number]\n",
    "    if account_transactions:\n",
    "        for t in account_transactions:\n",
    "            print(f\"Date: {t['date']}, Type: {t['type']}, Amount: ₹{t['amount']}, Target: {t.get('target', 'N/A')}\")\n",
    "    else:\n",
    "        print(\"No transactions found.\")\n",
    "\n",
    "def generate_report(account):\n",
    "    transactions = [t for t in load_transactions() if t['account_number'] == account.account_number]\n",
    "    deposits = [t['amount'] for t in transactions if t['type'] == \"Deposit\"]\n",
    "    withdrawals = [t['amount'] for t in transactions if t['type'] == \"Withdrawal\"]\n",
    "    \n",
    "    total_deposits = np.sum(deposits) if deposits else 0\n",
    "    total_withdrawals = np.sum(withdrawals) if withdrawals else 0\n",
    "    avg_transaction = np.mean(deposits + withdrawals) if deposits or withdrawals else 0\n",
    "    \n",
    "    print(f\"Total Deposits: ₹{total_deposits}\")\n",
    "    print(f\"Total Withdrawals: ₹{total_withdrawals}\")\n",
    "    print(f\"Average Transaction Amount: ₹{avg_transaction:.2f}\")\n",
    "\n",
    "# Main Menu\n",
    "\n",
    "def main():\n",
    "    accounts = load_accounts()\n",
    "    while True:\n",
    "        print(\"\\nBank Account Management System\")\n",
    "        print(\"1. Open New Account\")\n",
    "        print(\"2. View Account Details\")\n",
    "        print(\"3. Deposit Money\")\n",
    "        print(\"4. Withdraw Money\")\n",
    "        print(\"5. Transfer Money\")\n",
    "        print(\"6. View Transaction History\")\n",
    "        print(\"7. Generate Account Report\")\n",
    "        print(\"8. Exit\")\n",
    "        \n",
    "        choice = input(\"Enter your choice: \")\n",
    "        \n",
    "        if choice == \"1\":\n",
    "            name = input(\"Enter Account Holder's Name: \")\n",
    "            acc_type = input(\"Enter Account Type (Savings/Current): \")\n",
    "            initial_balance = float(input(\"Enter Initial Deposit Amount: \"))\n",
    "            new_acc = BankAccount(name, acc_type, initial_balance)\n",
    "            accounts[new_acc.account_number] = new_acc\n",
    "            save_accounts(accounts)\n",
    "            print(f\"Account Created Successfully! Account Number: {new_acc.account_number}\")\n",
    "\n",
    "        elif choice == \"2\":\n",
    "            acc_num = input(\"Enter Account Number: \")\n",
    "            if acc_num in accounts:\n",
    "                print(accounts[acc_num].get_details())\n",
    "            else:\n",
    "                print(\"Account not found.\")\n",
    "\n",
    "        elif choice == \"3\":\n",
    "            acc_num = input(\"Enter Account Number: \")\n",
    "            if acc_num in accounts:\n",
    "                amount = float(input(\"Enter Deposit Amount: \"))\n",
    "                print(accounts[acc_num].deposit(amount))\n",
    "                save_accounts(accounts)\n",
    "            else:\n",
    "                print(\"Account not found.\")\n",
    "\n",
    "        elif choice == \"4\":\n",
    "            acc_num = input(\"Enter Account Number: \")\n",
    "            if acc_num in accounts:\n",
    "                amount = float(input(\"Enter Withdrawal Amount: \"))\n",
    "                print(accounts[acc_num].withdraw(amount))\n",
    "                save_accounts(accounts)\n",
    "            else:\n",
    "                print(\"Account not found.\")\n",
    "\n",
    "        elif choice == \"5\":\n",
    "            from_acc = input(\"Enter Your Account Number: \")\n",
    "            to_acc = input(\"Enter Recipient Account Number: \")\n",
    "            if from_acc in accounts and to_acc in accounts:\n",
    "                amount = float(input(\"Enter Transfer Amount: \"))\n",
    "                print(accounts[from_acc].transfer(accounts[to_acc], amount))\n",
    "                save_accounts(accounts)\n",
    "            else:\n",
    "                print(\"One or both accounts not found.\")\n",
    "\n",
    "        elif choice == \"6\":\n",
    "            acc_num = input(\"Enter Account Number: \")\n",
    "            transaction_history(acc_num)\n",
    "\n",
    "        elif choice == \"7\":\n",
    "            acc_num = input(\"Enter Account Number: \")\n",
    "            if acc_num in accounts:\n",
    "                generate_report(accounts[acc_num])\n",
    "            else:\n",
    "                print(\"Account not found.\")\n",
    "\n",
    "        elif choice == \"8\":\n",
    "            print(\"Thank you for using the system!\")\n",
    "            break\n",
    "        else:\n",
    "            print(\"Invalid choice. Try again.\")\n",
    "\n",
    "if __name__ == \"__main__\":\n",
    "    main()\n"
   ]
  }
 ],
 "metadata": {
  "kernelspec": {
   "display_name": "Python 3 (ipykernel)",
   "language": "python",
   "name": "python3"
  },
  "language_info": {
   "codemirror_mode": {
    "name": "ipython",
    "version": 3
   },
   "file_extension": ".py",
   "mimetype": "text/x-python",
   "name": "python",
   "nbconvert_exporter": "python",
   "pygments_lexer": "ipython3",
   "version": "3.13.1"
  }
 },
 "nbformat": 4,
 "nbformat_minor": 5
}
